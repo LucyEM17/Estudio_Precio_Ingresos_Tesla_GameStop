{
 "cells": [
  {
   "cell_type": "markdown",
   "metadata": {},
   "source": [
    "<p style=\"text-align:center\">\n",
    "    <a href=\"https://skills.network/?utm_medium=Exinfluencer&utm_source=Exinfluencer&utm_content=000026UJ&utm_term=10006555&utm_id=NA-SkillsNetwork-Channel-SkillsNetworkCoursesIBMDeveloperSkillsNetworkPY0220ENSkillsNetwork900-2022-01-01\" target=\"_blank\">\n",
    "    <img src=\"https://cf-courses-data.s3.us.cloud-object-storage.appdomain.cloud/assets/logos/SN_web_lightmode.png\" width=\"200\" alt=\"Skills Network Logo\">\n",
    "    </a>\n",
    "</p>\n"
   ]
  },
  {
   "cell_type": "markdown",
   "metadata": {},
   "source": [
    "# Estudio de la Relación entre el Precio de las Acciones y los Ingresos de Tesla y GameStop"
   ]
  },
  {
   "cell_type": "markdown",
   "metadata": {},
   "source": [
    "# Question 1: Use Webscraping to Extract Tesla Revenue Data"
   ]
  },
  {
   "cell_type": "markdown",
   "metadata": {},
   "source": [
    "Reset the index, save, and display the first five rows of the tesla_data dataframe using the head function. Upload a screenshot of the results and code from the beginning of Question 1 to the results below."
   ]
  },
  {
   "cell_type": "code",
   "execution_count": null,
   "metadata": {},
   "outputs": [],
   "source": [
    "# Crear el objeto Ticker para GameStop (GME)\n",
    "gamestop = yf.Ticker(\"GME\")\n",
    "\n",
    "# Extraer los datos históricos con el periodo máximo disponible\n",
    "gme_data = gamestop.history(period=\"max\")\n",
    "\n",
    "# Mostrar las primeras 5 filas del DataFrame para verificar\n",
    "print(gme_data.head())"
   ]
  },
  {
   "cell_type": "markdown",
   "metadata": {},
   "source": [
    " # Question 2: Use Webscraping to Extract Tesla Revenue Data"
   ]
  },
  {
   "cell_type": "markdown",
   "metadata": {},
   "source": [
    "Display the last five rows of the tesla_revenue dataframe using the tail function. Upload a screenshot of the results."
   ]
  },
  {
   "cell_type": "code",
   "execution_count": null,
   "metadata": {},
   "outputs": [],
   "source": [
    "import requests\n",
    "from bs4 import BeautifulSoup\n",
    "\n",
    "# URL de la página con los ingresos de Tesla\n",
    "url = 'https://www.macrotrends.net/stocks/charts/TSLA/tesla/revenue'\n",
    "\n",
    "# Descargar el contenido de la página\n",
    "response = requests.get(url)\n",
    "html_data = response.text\n",
    "\n",
    "# Parsear el contenido con BeautifulSoup\n",
    "soup = BeautifulSoup(html_data, 'html.parser')\n",
    "\n",
    "# Extraer la tabla de ingresos de Tesla\n",
    "table = soup.find('table', {'class': 'historical_data_table'})\n",
    "rows = table.find_all('tr')[1:]  # Omitir el encabezado\n",
    "\n",
    "# Crear listas para almacenar las fechas y los ingresos\n",
    "dates = []\n",
    "revenues = []\n",
    "\n",
    "# Extraer los datos de cada fila\n",
    "for row in rows:\n",
    "    cols = row.find_all('td')\n",
    "    date = cols[0].text.strip()\n",
    "    revenue = cols[1].text.strip().replace('$', '').replace(',', '')\n",
    "    dates.append(date)\n",
    "    revenues.append(float(revenue))\n",
    "\n",
    "# Crear el DataFrame\n",
    "tesla_revenue = pd.DataFrame({'Date': dates, 'Revenue': revenues})\n",
    "\n",
    "# Mostrar las primeras filas del DataFrame para verificar\n",
    "print(tesla_revenue.head())"
   ]
  },
  {
   "cell_type": "markdown",
   "metadata": {},
   "source": [
    "Extracting essential data from a dataset and displaying it is a necessary part of data science; therefore individuals can make correct decisions based on the data. In this assignment, you will extract some stock data, you will then display this data in a graph.\n"
   ]
  },
  {
   "cell_type": "markdown",
   "metadata": {},
   "source": []
  },
  {
   "cell_type": "markdown",
   "metadata": {},
   "source": [
    "# Question 3: Use yfinance to Extract Stock Data"
   ]
  },
  {
   "cell_type": "markdown",
   "metadata": {},
   "source": [
    "Reset the index, save, and display the first five rows of the gme_data dataframe using the head function. Upload a screenshot of the results and code from the beginning of Question 1 to the results below."
   ]
  },
  {
   "cell_type": "code",
   "execution_count": null,
   "metadata": {},
   "outputs": [],
   "source": [
    "# Crear el objeto Ticker para GameStop (GME)\n",
    "gamestop = yf.Ticker(\"GME\")\n",
    "\n",
    "# Extraer los datos históricos con el periodo máximo disponible\n",
    "gme_data = gamestop.history(period=\"max\")\n",
    "\n",
    "# Mostrar las primeras 5 filas del DataFrame para verificar\n",
    "print(gme_data.head())"
   ]
  },
  {
   "cell_type": "markdown",
   "metadata": {},
   "source": [
    "# Question 4: Use Webscraping to Extract GME Revenue Dat"
   ]
  },
  {
   "cell_type": "markdown",
   "metadata": {},
   "source": [
    "Display the last five rows of the gme_revenue dataframe using the tail function. Upload a screenshot of the results."
   ]
  },
  {
   "cell_type": "code",
   "execution_count": null,
   "metadata": {},
   "outputs": [],
   "source": [
    "# URL de la página con los ingresos de GameStop\n",
    "url_2 = 'https://www.macrotrends.net/stocks/charts/GME/gamestop/revenue'\n",
    "\n",
    "# Descargar el contenido de la página\n",
    "response_2 = requests.get(url_2)\n",
    "html_data_2 = response_2.text\n",
    "\n",
    "# Parsear el contenido con BeautifulSoup\n",
    "soup_2 = BeautifulSoup(html_data_2, 'html.parser')\n",
    "\n",
    "# Extraer la tabla de ingresos de GameStop\n",
    "table_2 = soup_2.find('table', {'class': 'historical_data_table'})\n",
    "rows_2 = table_2.find_all('tr')[1:]  # Omitir el encabezado\n",
    "\n",
    "# Crear listas para almacenar las fechas y los ingresos\n",
    "dates_2 = []\n",
    "revenues_2 = []\n",
    "\n",
    "# Extraer los datos de cada fila\n",
    "for row in rows_2:\n",
    "    cols = row.find_all('td')\n",
    "    date_2 = cols[0].text.strip()\n",
    "    revenue_2 = cols[1].text.strip().replace('$', '').replace(',', '')\n",
    "    dates_2.append(date_2)\n",
    "    revenues_2.append(float(revenue_2))\n",
    "\n",
    "# Crear el DataFrame\n",
    "gme_revenue = pd.DataFrame({'Date': dates_2, 'Revenue': revenues_2})\n",
    "\n",
    "# Mostrar las primeras filas del DataFrame para verificar\n",
    "print(gme_revenue.head())"
   ]
  },
  {
   "cell_type": "markdown",
   "metadata": {},
   "source": [
    "# Question 5: Plot Tesla Stock Graph"
   ]
  },
  {
   "cell_type": "markdown",
   "metadata": {},
   "source": [
    "Use the make_graph function to graph the Tesla Stock Data, also provide a title for the graph.\n",
    "Upload a screenshot of your results."
   ]
  },
  {
   "cell_type": "markdown",
   "metadata": {},
   "source": [
    "![Texto alternativo](FOTO..jpeg)"
   ]
  },
  {
   "cell_type": "markdown",
   "metadata": {},
   "source": [
    "# Question 6: Plot GameStop Stock Graph"
   ]
  },
  {
   "cell_type": "markdown",
   "metadata": {},
   "source": [
    "Use the make_graph function to graph the GameStop Stock Data, also provide a title for the graph.\n",
    "Upload a screenshot of your results."
   ]
  },
  {
   "cell_type": "markdown",
   "metadata": {},
   "source": [
    "# Filtrar los datos hasta junio de 2021\n",
    "gme_data_filtered = gme_data[gme_data.index <= '2021-06-30']\n",
    "\n",
    "# Llamar a la función make_graph con los datos de GameStop\n",
    "make_graph(gme_data_filtered, gme_revenue, 'GameStop Stock Price and Revenue')"
   ]
  },
  {
   "cell_type": "markdown",
   "metadata": {},
   "source": [
    "***Note***:- If you are working Locally using anaconda, please uncomment the following code and execute it.\n",
    "Use the version as per your python version.\n"
   ]
  },
  {
   "cell_type": "code",
   "execution_count": null,
   "metadata": {},
   "outputs": [],
   "source": [
    "!pip install yfinance\n",
    "!pip install bs4\n",
    "!pip install nbformat\n",
    "!pip install --upgrade plotly"
   ]
  },
  {
   "cell_type": "code",
   "execution_count": null,
   "metadata": {},
   "outputs": [],
   "source": [
    "import yfinance as yf\n",
    "import pandas as pd\n",
    "import requests\n",
    "from bs4 import BeautifulSoup\n",
    "import plotly.graph_objects as go\n",
    "from plotly.subplots import make_subplots"
   ]
  },
  {
   "cell_type": "code",
   "execution_count": null,
   "metadata": {},
   "outputs": [],
   "source": [
    "import plotly.io as pio\n",
    "pio.renderers.default = \"iframe\""
   ]
  },
  {
   "cell_type": "markdown",
   "metadata": {},
   "source": [
    "In Python, you can ignore warnings using the warnings module. You can use the filterwarnings function to filter or ignore specific warning messages or categories.\n"
   ]
  },
  {
   "cell_type": "markdown",
   "metadata": {},
   "source": [
    "In this section, we define the function `make_graph`. **You don't have to know how the function works, you should only care about the inputs. It takes a dataframe with stock data (dataframe must contain Date and Close columns), a dataframe with revenue data (dataframe must contain Date and Revenue columns), and the name of the stock.**\n"
   ]
  },
  {
   "cell_type": "code",
   "execution_count": null,
   "metadata": {},
   "outputs": [],
   "source": [
    "def make_graph(stock_data, revenue_data, stock):\n",
    "    fig = make_subplots(rows=2, cols=1, shared_xaxes=True, subplot_titles=(\"Historical Share Price\", \"Historical Revenue\"), vertical_spacing = .3)\n",
    "    stock_data_specific = stock_data[stock_data.Date <= '2021-06-14']\n",
    "    revenue_data_specific = revenue_data[revenue_data.Date <= '2021-04-30']\n",
    "    fig.add_trace(go.Scatter(x=pd.to_datetime(stock_data_specific.Date, infer_datetime_format=True), y=stock_data_specific.Close.astype(\"float\"), name=\"Share Price\"), row=1, col=1)\n",
    "    fig.add_trace(go.Scatter(x=pd.to_datetime(revenue_data_specific.Date, infer_datetime_format=True), y=revenue_data_specific.Revenue.astype(\"float\"), name=\"Revenue\"), row=2, col=1)\n",
    "    fig.update_xaxes(title_text=\"Date\", row=1, col=1)\n",
    "    fig.update_xaxes(title_text=\"Date\", row=2, col=1)\n",
    "    fig.update_yaxes(title_text=\"Price ($US)\", row=1, col=1)\n",
    "    fig.update_yaxes(title_text=\"Revenue ($US Millions)\", row=2, col=1)\n",
    "    fig.update_layout(showlegend=False,\n",
    "    height=900,\n",
    "    title=stock,\n",
    "    xaxis_rangeslider_visible=True)\n",
    "    fig.show()\n",
    "    from IPython.display import display, HTML\n",
    "    fig_html = fig.to_html()\n",
    "    display(HTML(fig_html))"
   ]
  },
  {
   "cell_type": "markdown",
   "metadata": {},
   "source": [
    "Use the make_graph function that we’ve already defined. You’ll need to invoke it in questions 5 and 6 to display the graphs and create the dashboard. \n",
    "> **Note: You don’t need to redefine the function for plotting graphs anywhere else in this notebook; just use the existing function.**\n"
   ]
  }
 ],
 "metadata": {
  "kernelspec": {
   "display_name": "Python 3 (ipykernel)",
   "language": "python",
   "name": "python3"
  },
  "language_info": {
   "codemirror_mode": {
    "name": "ipython",
    "version": 3
   },
   "file_extension": ".py",
   "mimetype": "text/x-python",
   "name": "python",
   "nbconvert_exporter": "python",
   "pygments_lexer": "ipython3",
   "version": "3.12.8"
  },
  "prev_pub_hash": "a254c181ff89ab7bfd41849357df0b3716744f3a6dc743cb8ee1d0c6ffe92fcd"
 },
 "nbformat": 4,
 "nbformat_minor": 4
}
